{
 "metadata": {
  "language_info": {
   "codemirror_mode": {
    "name": "ipython",
    "version": 3
   },
   "file_extension": ".py",
   "mimetype": "text/x-python",
   "name": "python",
   "nbconvert_exporter": "python",
   "pygments_lexer": "ipython3",
   "version": "3.7.8-final"
  },
  "orig_nbformat": 2,
  "kernelspec": {
   "name": "python378jvsc74a57bd057baa5815c940fdaff4d14510622de9616cae602444507ba5d0b6727c008cbd6",
   "display_name": "Python 3.7.8 64-bit"
  }
 },
 "nbformat": 4,
 "nbformat_minor": 2,
 "cells": [
  {
   "cell_type": "code",
   "execution_count": null,
   "metadata": {},
   "outputs": [],
   "source": [
    "import matplotlib.pyplot as plt\n",
    "import numpy as np\n",
    "%matplotlib inline\n",
    "\n",
    "print(\"METODE NUMERIK-01\")\n",
    "print(\"TUGAS 5.4 INTEGRAL NUMERIK METODE SIMPSON 3/8\")\n",
    "print(\"Nama      : MUHAMMAD HURRICANE\")\n",
    "print(\"NPM       : 1906356191\")\n",
    "\n",
    "import math\n",
    "a = float(input('\\nBatas x1: '))\n",
    "b = float(input('Batas x2: '))\n",
    "seg = int(input('Banyak segmen: '))\n",
    "\n",
    "def f(x):\n",
    "    return -0.004783950617283948*x**2 + 0.1638888888888889*x + 4.8\n",
    "\n",
    "def opSimps38(a,b,seg):\n",
    "    interval = abs((b - a) / seg)\n",
    "    integrasi = f(a) + f(b)\n",
    "    \n",
    "    for i in range(2,(seg-1),3):\n",
    "        k = a + (i-1)*interval\n",
    "        h = a + (i)*interval\n",
    "        integrasi = integrasi + 3 * (f(k)+f(h))\n",
    "        print('i= %d, f(Xi)= %0.8f, SUM= %0.8f' % (i,(f(k)+f(h)),integrasi))\n",
    "    for i in range(4,(seg-2),3):\n",
    "        j = a + (i-1)*interval\n",
    "        integrasi = integrasi + 2 * f(j)\n",
    "        print('i= %d, f(Xi)= %0.8f, SUM= %0.8f' % (i,f(j),integrasi))\n",
    "    luas = 3*integrasi*interval / 8\n",
    "    return luas\n",
    "\n",
    "\n",
    "hasil = opSimps38(a, b, seg)\n",
    "print(\"Hasil Integrasi: %0.15f\" % (hasil) )\n",
    "\n",
    "\n",
    "x = np.linspace(a,b,seg)\n",
    "plt.plot(x,f(x))\n",
    "plt.show"
   ]
  },
  {
   "cell_type": "code",
   "execution_count": null,
   "metadata": {},
   "outputs": [],
   "source": []
  }
 ]
}